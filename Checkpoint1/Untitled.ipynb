{
 "cells": [
  {
   "cell_type": "code",
   "execution_count": 5,
   "metadata": {},
   "outputs": [],
   "source": [
    "import itertools\n",
    "\n",
    "class Polynomials(object):\n",
    "\tdef __init__(self,coeffs):\n",
    "\t\tself.coeffs = coeffs\n",
    "\tdef order(self):\n",
    "\t\treturn len(self.coeffs) - 1\n",
    "\tdef add(self, p):\n",
    "\t\treturn Polynomials([i+j for i, j in itertools.zip_longest(self.coeffs,p.coeffs,fillvalue=0)])\n",
    "\tdef derivative(self):\n",
    "\t\treturn Polynomials([self.coeffs[i]*i for i in range(1,len(self.coeffs))])\n",
    "\tdef antiDerivative(self,c):\n",
    "\t\treturn Polynomials([c] + [self.coeffs[i]*(1/(i+1)) for i in range(0,len(self.coeffs))])\n",
    "\tdef __str__(self):\n",
    "\t\ts = \"\"\n",
    "\t\tfor i in range(0,len(self.coeffs)):\n",
    "\t\t\tif i == 0:\n",
    "\t\t\t\ts += str(self.coeffs[i]) + \" + \" \n",
    "\t\t\telif i == 1:\n",
    "\t\t\t\ts += str(self.coeffs[i]) + \"x\" + \" + \"\n",
    "\t\t\telif i == len(self.coeffs) - 1:\n",
    "\t\t\t\ts += str(self.coeffs[i]) + \"x^\" + str(i)\n",
    "\t\t\telse:\n",
    "\t\t\t\ts += str(self.coeffs[i]) + \"x^\" + str(i) + \" + \"\n",
    "\t\tprint(s)"
   ]
  },
  {
   "cell_type": "code",
   "execution_count": 9,
   "metadata": {},
   "outputs": [],
   "source": [
    "p_1 = Polynomials([2,0,4,-1,6])\n",
    "p_2 = Polynomials([-1,-3,0,4.5])"
   ]
  },
  {
   "cell_type": "code",
   "execution_count": 10,
   "metadata": {},
   "outputs": [
    {
     "data": {
      "text/plain": [
       "<__main__.Polynomials at 0x7fc46eef0780>"
      ]
     },
     "execution_count": 10,
     "metadata": {},
     "output_type": "execute_result"
    }
   ],
   "source": [
    "p_1"
   ]
  },
  {
   "cell_type": "code",
   "execution_count": 11,
   "metadata": {},
   "outputs": [
    {
     "name": "stdout",
     "output_type": "stream",
     "text": [
      "2 + 0x + 4x^2 + -1x^3 + 6x^4\n"
     ]
    }
   ],
   "source": [
    "p_1.__str__()"
   ]
  },
  {
   "cell_type": "code",
   "execution_count": null,
   "metadata": {},
   "outputs": [],
   "source": []
  }
 ],
 "metadata": {
  "kernelspec": {
   "display_name": "Python 3",
   "language": "python",
   "name": "python3"
  },
  "language_info": {
   "codemirror_mode": {
    "name": "ipython",
    "version": 3
   },
   "file_extension": ".py",
   "mimetype": "text/x-python",
   "name": "python",
   "nbconvert_exporter": "python",
   "pygments_lexer": "ipython3",
   "version": "3.7.0"
  }
 },
 "nbformat": 4,
 "nbformat_minor": 2
}
