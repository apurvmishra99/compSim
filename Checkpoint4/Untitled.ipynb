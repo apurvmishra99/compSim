{
 "cells": [
  {
   "cell_type": "code",
   "execution_count": 15,
   "metadata": {},
   "outputs": [],
   "source": [
    "import numpy as np"
   ]
  },
  {
   "cell_type": "code",
   "execution_count": 2,
   "metadata": {},
   "outputs": [],
   "source": [
    "import matplotlib.pyplot as plt"
   ]
  },
  {
   "cell_type": "code",
   "execution_count": 87,
   "metadata": {},
   "outputs": [
    {
     "data": {
      "text/plain": [
       "15"
      ]
     },
     "execution_count": 87,
     "metadata": {},
     "output_type": "execute_result"
    }
   ],
   "source": [
    "arr = [0,1,0,0,0,1,0,1,0,1,1,0,1,0,1]\n",
    "narr_2 = np.array([])\n",
    "narr = np.array(arr)\n",
    "narr.size"
   ]
  },
  {
   "cell_type": "code",
   "execution_count": 88,
   "metadata": {},
   "outputs": [],
   "source": [
    "def updateLogic(arr):\n",
    "    length = narr.size\n",
    "    \n",
    "    for i in range(15):\n",
    "        n = 0\n",
    "        while n < narr.size:\n",
    "            if n == len(arr) -1:\n",
    "                if arr[n] == 1 and arr[0] == 0:\n",
    "                    arr[n] = 0\n",
    "                    arr[0] = 1\n",
    "                elif arr[n-1] == 1 and arr[n] == 0:\n",
    "                    arr[n] = 1\n",
    "                    arr[n-1] = 0\n",
    "            elif arr[n] == 1 and arr[n + 1] == 0:\n",
    "                    arr[n] = 0\n",
    "                    arr[n+1] = 1\n",
    "\n",
    "            elif arr[n] == 0 and arr[n - 1] == 1:\n",
    "                    arr[n] = 1\n",
    "                    arr[n-1] =0\n",
    "            n += 1\n",
    "        print(arr)"
   ]
  },
  {
   "cell_type": "code",
   "execution_count": 89,
   "metadata": {},
   "outputs": [
    {
     "name": "stdout",
     "output_type": "stream",
     "text": [
      "[1, 0, 0, 0, 1, 0, 1, 0, 1, 1, 0, 1, 0, 0, 1]\n",
      "[1, 0, 0, 1, 0, 1, 0, 1, 1, 0, 1, 0, 0, 1, 0]\n",
      "[1, 0, 1, 0, 1, 0, 1, 1, 0, 1, 0, 0, 1, 0, 0]\n",
      "[1, 1, 0, 1, 0, 1, 1, 0, 1, 0, 0, 1, 0, 0, 0]\n",
      "[1, 0, 1, 0, 1, 1, 0, 1, 0, 0, 1, 0, 0, 0, 1]\n",
      "[1, 1, 0, 1, 1, 0, 1, 0, 0, 1, 0, 0, 0, 1, 0]\n",
      "[1, 0, 1, 1, 0, 1, 0, 0, 1, 0, 0, 0, 1, 0, 1]\n",
      "[1, 1, 1, 0, 1, 0, 0, 1, 0, 0, 0, 1, 0, 1, 0]\n",
      "[1, 1, 0, 1, 0, 0, 1, 0, 0, 0, 1, 0, 1, 0, 1]\n",
      "[1, 0, 1, 0, 0, 1, 0, 0, 0, 1, 0, 1, 0, 1, 1]\n",
      "[1, 1, 0, 0, 1, 0, 0, 0, 1, 0, 1, 0, 1, 1, 0]\n",
      "[1, 0, 0, 1, 0, 0, 0, 1, 0, 1, 0, 1, 1, 0, 1]\n",
      "[1, 0, 1, 0, 0, 0, 1, 0, 1, 0, 1, 1, 0, 1, 0]\n",
      "[1, 1, 0, 0, 0, 1, 0, 1, 0, 1, 1, 0, 1, 0, 0]\n",
      "[1, 0, 0, 0, 1, 0, 1, 0, 1, 1, 0, 1, 0, 0, 1]\n"
     ]
    }
   ],
   "source": [
    "updateLogic(arr)"
   ]
  },
  {
   "cell_type": "code",
   "execution_count": 58,
   "metadata": {},
   "outputs": [],
   "source": [
    "arr1= [1,2,3]"
   ]
  },
  {
   "cell_type": "code",
   "execution_count": 59,
   "metadata": {},
   "outputs": [],
   "source": [
    "arr3 = [[1,2,3,5]]"
   ]
  },
  {
   "cell_type": "code",
   "execution_count": 60,
   "metadata": {},
   "outputs": [],
   "source": [
    "arr3.append(arr1)"
   ]
  },
  {
   "cell_type": "code",
   "execution_count": 61,
   "metadata": {},
   "outputs": [
    {
     "data": {
      "text/plain": [
       "[[1, 2, 3, 5], [1, 2, 3]]"
      ]
     },
     "execution_count": 61,
     "metadata": {},
     "output_type": "execute_result"
    }
   ],
   "source": [
    "arr3"
   ]
  },
  {
   "cell_type": "code",
   "execution_count": 90,
   "metadata": {},
   "outputs": [],
   "source": [
    "np.arr = [1,2,3]"
   ]
  },
  {
   "cell_type": "code",
   "execution_count": 92,
   "metadata": {},
   "outputs": [],
   "source": [
    "arr1 = np.array([1,2,3])"
   ]
  },
  {
   "cell_type": "code",
   "execution_count": 93,
   "metadata": {},
   "outputs": [],
   "source": [
    "arr2 = np.array([1,4,5])"
   ]
  },
  {
   "cell_type": "code",
   "execution_count": 94,
   "metadata": {},
   "outputs": [
    {
     "ename": "AttributeError",
     "evalue": "'numpy.ndarray' object has no attribute 'append'",
     "output_type": "error",
     "traceback": [
      "\u001b[0;31m---------------------------------------------------------------------------\u001b[0m",
      "\u001b[0;31mAttributeError\u001b[0m                            Traceback (most recent call last)",
      "\u001b[0;32m<ipython-input-94-326c0829d186>\u001b[0m in \u001b[0;36m<module>\u001b[0;34m\u001b[0m\n\u001b[0;32m----> 1\u001b[0;31m \u001b[0marr2\u001b[0m\u001b[0;34m.\u001b[0m\u001b[0mappend\u001b[0m\u001b[0;34m(\u001b[0m\u001b[0marr1\u001b[0m\u001b[0;34m)\u001b[0m\u001b[0;34m\u001b[0m\u001b[0;34m\u001b[0m\u001b[0m\n\u001b[0m",
      "\u001b[0;31mAttributeError\u001b[0m: 'numpy.ndarray' object has no attribute 'append'"
     ]
    }
   ],
   "source": [
    "arr2.append(arr1)"
   ]
  },
  {
   "cell_type": "code",
   "execution_count": 95,
   "metadata": {},
   "outputs": [
    {
     "data": {
      "text/plain": [
       "[1, 2, 3]"
      ]
     },
     "execution_count": 95,
     "metadata": {},
     "output_type": "execute_result"
    }
   ],
   "source": [
    "list(arr1)"
   ]
  },
  {
   "cell_type": "code",
   "execution_count": 104,
   "metadata": {},
   "outputs": [],
   "source": [
    "import numpy as np \n",
    "import matplotlib.pyplot as plt\n",
    "\n",
    "\n",
    "class Traffic(object):\n",
    "    def __init__(self, roadL, nCars, nIter):\n",
    "        self.roadL = roadL\n",
    "        self.nCars = nCars\n",
    "        self.density = float(self.nCars/self.roadL)\n",
    "        self.posCar = np.random.choice([0,1], size=(self.roadL,), p=[1-self.density, self.density])\n",
    "        self.posCarEveryIter = [list(self.posCar)]\n",
    "        self.nIter = nIter\n",
    "        self.avgSpeeds = []\n",
    "\n",
    "    def appendInRoadPosHis(self, roadPos):\n",
    "        self.posCarEveryIter.append(list(roadPos))\n",
    "\n",
    "    def update(self):\n",
    "        for _ in range(self.nIter):\n",
    "            n = 0\n",
    "            movCars = 0\n",
    "            while n < self.posCar.size:\n",
    "                if n == self.posCar.size - 1:\n",
    "                    if self.posCar[n] == 1 and self.posCar[0] == 0:\n",
    "                        self.posCar[n] = 0\n",
    "                        self.posCar[0] = 1\n",
    "                        movCars += 1\n",
    "                    elif self.posCar[n-1] == 1 and self.posCar[n] == 0:\n",
    "                        self.posCar[n] = 1\n",
    "                        self.posCar[n-1] = 0\n",
    "                        movCars += 1\n",
    "                elif self.posCar[n] == 1 and self.posCar[n + 1] == 0:\n",
    "                    self.posCar[n] = 0\n",
    "                    self.posCar[n+1] = 1\n",
    "                    movCars += 1\n",
    "\n",
    "                elif self.posCar[n] == 0 and self.posCar[n - 1] == 1:\n",
    "                    self.posCar[n] = 1\n",
    "                    self.posCar[n-1] = 0\n",
    "                    movCars += 1\n",
    "                self.avgSpeeds.append(movCars/self.nCars)\n",
    "                n += 1\n",
    "            self.appendInRoadPosHis(self.posCar)"
   ]
  },
  {
   "cell_type": "code",
   "execution_count": 105,
   "metadata": {},
   "outputs": [],
   "source": [
    "test = Traffic(10,3,10)\n"
   ]
  },
  {
   "cell_type": "code",
   "execution_count": 106,
   "metadata": {},
   "outputs": [],
   "source": [
    "test.update()"
   ]
  },
  {
   "cell_type": "code",
   "execution_count": 109,
   "metadata": {},
   "outputs": [
    {
     "data": {
      "text/plain": [
       "0.3"
      ]
     },
     "execution_count": 109,
     "metadata": {},
     "output_type": "execute_result"
    }
   ],
   "source": [
    "test.density"
   ]
  },
  {
   "cell_type": "code",
   "execution_count": 261,
   "metadata": {},
   "outputs": [],
   "source": [
    "import numpy as np\n",
    "import matplotlib.pyplot as plt\n",
    "\n",
    "\n",
    "class Traffic(object):\n",
    "    def __init__(self, roadDensity, nIter):\n",
    "        self.roadL = 10\n",
    "        self.roadDensity = roadDensity\n",
    "        self.posCar = np.array([0]*int((1-self.roadDensity)*self.roadL) + [1]*int(self.roadL*self.roadDensity))\n",
    "        self.posCarEveryIter = np.zeros((nIter+1, self.roadL), dtype=int)\n",
    "        self.nIter = nIter\n",
    "        self.avgSpeeds = []\n",
    "\n",
    "    def appendInRoadPosHis(self, roadPos):\n",
    "        self.posCarEveryIter.append(list(roadPos))\n",
    "\n",
    "    def update(self):\n",
    "        np.random.shuffle(self.posCar)\n",
    "        self.posCarEveryIter[0] = self.posCar\n",
    "        for i in range(1, self.nIter):\n",
    "            n = 0\n",
    "            movCars = 0\n",
    "            root = self.posCarEveryIter[i-1][:]\n",
    "            print(root)\n",
    "            while n < self.posCar.size -1:\n",
    "                front = (n+1) % self.posCar.size\n",
    "                back = (n-1) % self.posCar.size\n",
    "#                 if self.posCarEveryIter[i-1][n] == 1 and self.posCarEveryIter[i-1][front] == 0:\n",
    "#                     root[n] = 0\n",
    "#                     root[front] = 1\n",
    "#                     movCars += 1\n",
    "\n",
    "#                 elif self.posCarEveryIter[i-1][n] == 0 and self.posCarEveryIter[i-1][back] == 1:\n",
    "#                     root[n] = 1\n",
    "#                     root[back] = 0\n",
    "#                     movCars += 1\n",
    "#                if self.posCarEveryIter[i-1][n]==1 \n",
    "\n",
    "                if self.posCarEveryIter[i-1][n] == 1:\n",
    "                    if self.posCarEveryIter[i-1][front] == 1:\n",
    "                        root[n] = 1\n",
    "            \n",
    "                    else:\n",
    "                        root[n] = 0\n",
    "\n",
    "                elif self.posCarEveryIter[i-1][n] == 0:\n",
    "                    if self.posCarEveryIter[i-1][back] == 1:\n",
    "                        root[n] = 1\n",
    "\n",
    "                    else:\n",
    "                        root[n] = 0\n",
    "                #self.avgSpeeds.append(movCars/(self.roadDensity * self.roadL))\n",
    "                n += 1\n",
    "            self.posCarEveryIter[i] = root\n",
    "    def plotMovement(self):\n",
    "        plt.imshow(self.posCarEveryIter, interpolation=None, origin='lower')\n",
    "        plt.show()\n"
   ]
  },
  {
   "cell_type": "code",
   "execution_count": 262,
   "metadata": {},
   "outputs": [],
   "source": [
    "t = Traffic(0.3, 10)"
   ]
  },
  {
   "cell_type": "code",
   "execution_count": 263,
   "metadata": {},
   "outputs": [
    {
     "data": {
      "text/plain": [
       "array([0, 0, 0, 0, 0, 0, 0, 1, 1, 1])"
      ]
     },
     "execution_count": 263,
     "metadata": {},
     "output_type": "execute_result"
    }
   ],
   "source": [
    "t.posCar"
   ]
  },
  {
   "cell_type": "code",
   "execution_count": 264,
   "metadata": {},
   "outputs": [
    {
     "name": "stdout",
     "output_type": "stream",
     "text": [
      "[0 1 0 0 0 0 1 0 1 0]\n",
      "[0 0 0 0 0 0 0 0 0 0]\n",
      "[0 0 0 0 0 0 0 0 0 0]\n",
      "[0 0 0 0 0 0 0 0 0 0]\n",
      "[0 0 0 0 0 0 0 0 0 0]\n",
      "[0 0 0 0 0 0 0 0 0 0]\n",
      "[0 0 0 0 0 0 0 0 0 0]\n",
      "[0 0 0 0 0 0 0 0 0 0]\n",
      "[0 0 0 0 0 0 0 0 0 0]\n"
     ]
    }
   ],
   "source": [
    "t.update()"
   ]
  },
  {
   "cell_type": "code",
   "execution_count": 265,
   "metadata": {},
   "outputs": [
    {
     "data": {
      "text/plain": [
       "array([[0, 0, 0, 0, 0, 0, 0, 0, 0, 0],\n",
       "       [0, 0, 0, 0, 0, 0, 0, 0, 0, 0],\n",
       "       [0, 0, 0, 0, 0, 0, 0, 0, 0, 0],\n",
       "       [0, 0, 0, 0, 0, 0, 0, 0, 0, 0],\n",
       "       [0, 0, 0, 0, 0, 0, 0, 0, 0, 0],\n",
       "       [0, 0, 0, 0, 0, 0, 0, 0, 0, 0],\n",
       "       [0, 0, 0, 0, 0, 0, 0, 0, 0, 0],\n",
       "       [0, 0, 0, 0, 0, 0, 0, 0, 0, 0],\n",
       "       [0, 0, 0, 0, 0, 0, 0, 0, 0, 0],\n",
       "       [0, 0, 0, 0, 0, 0, 0, 0, 0, 0],\n",
       "       [0, 0, 0, 0, 0, 0, 0, 0, 0, 0]])"
      ]
     },
     "execution_count": 265,
     "metadata": {},
     "output_type": "execute_result"
    }
   ],
   "source": [
    "t.posCarEveryIter"
   ]
  },
  {
   "cell_type": "code",
   "execution_count": 216,
   "metadata": {},
   "outputs": [
    {
     "data": {
      "image/png": "[encoded data removed]",
      "text/plain": [
       "<Figure size 432x288 with 1 Axes>"
      ]
     },
     "metadata": {
      "needs_background": "light"
     },
     "output_type": "display_data"
    }
   ],
   "source": [
    "t.plotMovement()"
   ]
  },
  {
   "cell_type": "code",
   "execution_count": 76,
   "metadata": {},
   "outputs": [],
   "source": [
    "arr = [0,0,1,1,0,0,0]\n",
    "carArr = []\n",
    "carArr.append(arr)\n",
    "for _ in range(10):\n",
    "        n = 0\n",
    "        movCars = 0\n",
    "        while n < len(arr) -1:\n",
    "            front = (n+1) % len(arr)\n",
    "            back = (n-1) % len(arr)\n",
    "            if arr[n] == 1 and arr[front] == 0:\n",
    "                arr[n] = 0\n",
    "                arr[front] = 1\n",
    "                movCars += 1\n",
    "\n",
    "            elif arr[n] == 0 and arr[back] == 1:\n",
    "                arr[n] = 1\n",
    "                arr[back] = 0\n",
    "                movCars += 1\n",
    "            #CarArr.append(movCars/(self.roadDensity * self.roadL))\n",
    "            n += 1\n",
    "        carArr.append(arr)"
   ]
  },
  {
   "cell_type": "code",
   "execution_count": 77,
   "metadata": {},
   "outputs": [
    {
     "data": {
      "text/plain": [
       "[[0, 0, 0, 0, 0, 1, 1],\n",
       " [0, 0, 0, 0, 0, 1, 1],\n",
       " [0, 0, 0, 0, 0, 1, 1],\n",
       " [0, 0, 0, 0, 0, 1, 1],\n",
       " [0, 0, 0, 0, 0, 1, 1],\n",
       " [0, 0, 0, 0, 0, 1, 1],\n",
       " [0, 0, 0, 0, 0, 1, 1],\n",
       " [0, 0, 0, 0, 0, 1, 1],\n",
       " [0, 0, 0, 0, 0, 1, 1],\n",
       " [0, 0, 0, 0, 0, 1, 1],\n",
       " [0, 0, 0, 0, 0, 1, 1]]"
      ]
     },
     "execution_count": 77,
     "metadata": {},
     "output_type": "execute_result"
    }
   ],
   "source": [
    "carArr"
   ]
  },
  {
   "cell_type": "code",
   "execution_count": 99,
   "metadata": {},
   "outputs": [
    {
     "data": {
      "text/plain": [
       "array([0, 0, 0, 1, 0, 1, 0, 0, 0, 0])"
      ]
     },
     "execution_count": 99,
     "metadata": {},
     "output_type": "execute_result"
    }
   ],
   "source": [
    "np.random.choice([0, 1], size=(10,), p=[\n",
    "\n",
    "    0.7, 0.3])"
   ]
  },
  {
   "cell_type": "code",
   "execution_count": 122,
   "metadata": {},
   "outputs": [],
   "source": [
    "import random\n",
    "posCar1 = [0]*70 + [1]*30\n",
    "np.random.shuffle(posCar1)"
   ]
  },
  {
   "cell_type": "code",
   "execution_count": 123,
   "metadata": {},
   "outputs": [
    {
     "data": {
      "text/plain": [
       "[0,\n",
       " 0,\n",
       " 0,\n",
       " 0,\n",
       " 0,\n",
       " 0,\n",
       " 0,\n",
       " 0,\n",
       " 1,\n",
       " 0,\n",
       " 0,\n",
       " 0,\n",
       " 0,\n",
       " 0,\n",
       " 1,\n",
       " 0,\n",
       " 0,\n",
       " 0,\n",
       " 0,\n",
       " 0,\n",
       " 0,\n",
       " 0,\n",
       " 0,\n",
       " 0,\n",
       " 1,\n",
       " 1,\n",
       " 1,\n",
       " 0,\n",
       " 0,\n",
       " 0,\n",
       " 0,\n",
       " 1,\n",
       " 0,\n",
       " 0,\n",
       " 1,\n",
       " 0,\n",
       " 0,\n",
       " 0,\n",
       " 0,\n",
       " 0,\n",
       " 0,\n",
       " 1,\n",
       " 1,\n",
       " 0,\n",
       " 0,\n",
       " 1,\n",
       " 0,\n",
       " 1,\n",
       " 0,\n",
       " 0,\n",
       " 0,\n",
       " 1,\n",
       " 0,\n",
       " 0,\n",
       " 0,\n",
       " 0,\n",
       " 0,\n",
       " 0,\n",
       " 1,\n",
       " 0,\n",
       " 1,\n",
       " 0,\n",
       " 0,\n",
       " 0,\n",
       " 0,\n",
       " 0,\n",
       " 1,\n",
       " 0,\n",
       " 1,\n",
       " 0,\n",
       " 0,\n",
       " 0,\n",
       " 1,\n",
       " 0,\n",
       " 1,\n",
       " 0,\n",
       " 0,\n",
       " 0,\n",
       " 1,\n",
       " 0,\n",
       " 1,\n",
       " 1,\n",
       " 1,\n",
       " 1,\n",
       " 1,\n",
       " 1,\n",
       " 0,\n",
       " 0,\n",
       " 0,\n",
       " 1,\n",
       " 1,\n",
       " 0,\n",
       " 0,\n",
       " 0,\n",
       " 0,\n",
       " 0,\n",
       " 1,\n",
       " 0,\n",
       " 1,\n",
       " 1]"
      ]
     },
     "execution_count": 123,
     "metadata": {},
     "output_type": "execute_result"
    }
   ],
   "source": [
    "posCar1"
   ]
  },
  {
   "cell_type": "code",
   "execution_count": 115,
   "metadata": {},
   "outputs": [
    {
     "data": {
      "text/plain": [
       "array([1, 1, 1, 1, 1, 1, 1, 0, 1, 1])"
      ]
     },
     "execution_count": 115,
     "metadata": {},
     "output_type": "execute_result"
    }
   ],
   "source": [
    "np.random.binomial(1, 5./10, size=10)"
   ]
  },
  {
   "cell_type": "code",
   "execution_count": 147,
   "metadata": {},
   "outputs": [],
   "source": [
    "mat = [[1,2,3,4],[1,4,6,7],[2,49,22]]"
   ]
  },
  {
   "cell_type": "code",
   "execution_count": 149,
   "metadata": {},
   "outputs": [],
   "source": [
    "mat[1] = [1,23,5,6]"
   ]
  },
  {
   "cell_type": "code",
   "execution_count": 150,
   "metadata": {},
   "outputs": [
    {
     "data": {
      "text/plain": [
       "[[1, 2, 3, 4], [1, 23, 5, 6], [2, 49, 22]]"
      ]
     },
     "execution_count": 150,
     "metadata": {},
     "output_type": "execute_result"
    }
   ],
   "source": [
    "mat"
   ]
  },
  {
   "cell_type": "code",
   "execution_count": 152,
   "metadata": {},
   "outputs": [
    {
     "data": {
      "text/plain": [
       "array([[0., 0., 0., 0., 0.],\n",
       "       [0., 0., 0., 0., 0.],\n",
       "       [0., 0., 0., 0., 0.],\n",
       "       [0., 0., 0., 0., 0.],\n",
       "       [0., 0., 0., 0., 0.],\n",
       "       [0., 0., 0., 0., 0.],\n",
       "       [0., 0., 0., 0., 0.],\n",
       "       [0., 0., 0., 0., 0.],\n",
       "       [0., 0., 0., 0., 0.],\n",
       "       [0., 0., 0., 0., 0.]])"
      ]
     },
     "execution_count": 152,
     "metadata": {},
     "output_type": "execute_result"
    }
   ],
   "source": [
    "np.zeros((10,5))"
   ]
  },
  {
   "cell_type": "code",
   "execution_count": null,
   "metadata": {},
   "outputs": [],
   "source": [
    "def vfunc(arr):\n",
    "    front = (n+1) % self.posCar.size\n",
    "    back = (n-1) % self.posCar.size\n",
    "    if self.posCar[n] == 1 and self.posCar[front] == 0:\n",
    "        root[n] = 0\n",
    "        root[front] = 1\n",
    "        movCars += 1\n",
    "\n",
    "    elif self.posCar[n] == 0 and self.posCar[back] == 1:\n",
    "        root[n] = 1\n",
    "        root[back] = 0\n",
    "        movCars += 1"
   ]
  }
 ],
 "metadata": {
  "kernelspec": {
   "display_name": "Python 3",
   "language": "python",
   "name": "python3"
  },
  "language_info": {
   "codemirror_mode": {
    "name": "ipython",
    "version": 3
   },
   "file_extension": ".py",
   "mimetype": "text/x-python",
   "name": "python",
   "nbconvert_exporter": "python",
   "pygments_lexer": "ipython3",
   "version": "3.7.2"
  }
 },
 "nbformat": 4,
 "nbformat_minor": 2
}
